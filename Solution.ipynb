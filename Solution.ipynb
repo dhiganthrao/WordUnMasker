{
 "cells": [
  {
   "cell_type": "code",
   "execution_count": 1,
   "metadata": {
    "executionInfo": {
     "elapsed": 766,
     "status": "ok",
     "timestamp": 1611497496952,
     "user": {
      "displayName": "Dhiganth Rao P",
      "photoUrl": "https://lh3.googleusercontent.com/a-/AOh14Giko-QM05H9a_27iw6OWWX_BofjkoM8Resixm88=s64",
      "userId": "00187011474742499538"
     },
     "user_tz": -330
    },
    "id": "dsJvhU4Re8T5"
   },
   "outputs": [
    {
     "name": "stdout",
     "output_type": "stream",
     "text": [
      "--2021-01-24 20:11:54--  http://nlp.stanford.edu/data/glove.6B.zip\n",
      "Resolving nlp.stanford.edu (nlp.stanford.edu)... 171.64.67.140\n",
      "Connecting to nlp.stanford.edu (nlp.stanford.edu)|171.64.67.140|:80... connected.\n",
      "HTTP request sent, awaiting response... 302 Found\n",
      "Location: https://nlp.stanford.edu/data/glove.6B.zip [following]\n",
      "--2021-01-24 20:11:55--  https://nlp.stanford.edu/data/glove.6B.zip\n",
      "Connecting to nlp.stanford.edu (nlp.stanford.edu)|171.64.67.140|:443... connected.\n",
      "HTTP request sent, awaiting response... 301 Moved Permanently\n",
      "Location: http://downloads.cs.stanford.edu/nlp/data/glove.6B.zip [following]\n",
      "--2021-01-24 20:11:56--  http://downloads.cs.stanford.edu/nlp/data/glove.6B.zip\n",
      "Resolving downloads.cs.stanford.edu (downloads.cs.stanford.edu)... 171.64.64.22\n",
      "Connecting to downloads.cs.stanford.edu (downloads.cs.stanford.edu)|171.64.64.22|:80... connected.\n",
      "HTTP request sent, awaiting response... 200 OK\n",
      "Length: 862182613 (822M) [application/zip]\n",
      "Saving to: ‘glove.6B.zip’\n",
      "\n",
      "glove.6B.zip        100%[===================>] 822.24M  1.62MB/s    in 7m 51s  \n",
      "\n",
      "2021-01-24 20:19:49 (1.74 MB/s) - ‘glove.6B.zip’ saved [862182613/862182613]\n",
      "\n"
     ]
    }
   ],
   "source": [
    "# Downloads:\n",
    "# !wget nlp.stanford.edu/data/glove.6B.zip"
   ]
  },
  {
   "cell_type": "code",
   "execution_count": 2,
   "metadata": {
    "executionInfo": {
     "elapsed": 1093,
     "status": "ok",
     "timestamp": 1611497497296,
     "user": {
      "displayName": "Dhiganth Rao P",
      "photoUrl": "https://lh3.googleusercontent.com/a-/AOh14Giko-QM05H9a_27iw6OWWX_BofjkoM8Resixm88=s64",
      "userId": "00187011474742499538"
     },
     "user_tz": -330
    },
    "id": "9syCaIBDYlx7"
   },
   "outputs": [],
   "source": [
    "# IMPORTS: Standard Imports\n",
    "import pandas as pd\n",
    "import numpy as np\n",
    "import io\n",
    "import zipfile\n",
    "import re"
   ]
  },
  {
   "cell_type": "code",
   "execution_count": 3,
   "metadata": {
    "colab": {
     "base_uri": "https://localhost:8080/"
    },
    "executionInfo": {
     "elapsed": 34274,
     "status": "ok",
     "timestamp": 1611497530516,
     "user": {
      "displayName": "Dhiganth Rao P",
      "photoUrl": "https://lh3.googleusercontent.com/a-/AOh14Giko-QM05H9a_27iw6OWWX_BofjkoM8Resixm88=s64",
      "userId": "00187011474742499538"
     },
     "user_tz": -330
    },
    "id": "1j4hnb_iZC3W",
    "outputId": "7680dcd6-322f-4b36-f4f1-b2f29d1e07c4"
   },
   "outputs": [
    {
     "name": "stdout",
     "output_type": "stream",
     "text": [
      "Mounted at /content/drive\n"
     ]
    }
   ],
   "source": [
    "'''from google.colab import drive\n",
    "drive.mount('/content/drive')'''"
   ]
  },
  {
   "cell_type": "code",
   "execution_count": 3,
   "metadata": {
    "colab": {
     "base_uri": "https://localhost:8080/",
     "height": 53
    },
    "executionInfo": {
     "elapsed": 34249,
     "status": "ok",
     "timestamp": 1611497530526,
     "user": {
      "displayName": "Dhiganth Rao P",
      "photoUrl": "https://lh3.googleusercontent.com/a-/AOh14Giko-QM05H9a_27iw6OWWX_BofjkoM8Resixm88=s64",
      "userId": "00187011474742499538"
     },
     "user_tz": -330
    },
    "id": "YTvnAOmmcw7B",
    "outputId": "264c9185-e5cb-4daa-99f9-f0646e90ec9f"
   },
   "outputs": [],
   "source": [
    "# Unzipping Downloaded file\n",
    "'''with zipfile.ZipFile('glove.6B.zip', 'r') as zip_ref:\n",
    "    zip_ref.extractall('/content/drive/My Drive/Makeathon/GloVe')'''"
   ]
  },
  {
   "cell_type": "code",
   "execution_count": 5,
   "metadata": {
    "colab": {
     "base_uri": "https://localhost:8080/"
    },
    "executionInfo": {
     "elapsed": 34608,
     "status": "ok",
     "timestamp": 1611497530905,
     "user": {
      "displayName": "Dhiganth Rao P",
      "photoUrl": "https://lh3.googleusercontent.com/a-/AOh14Giko-QM05H9a_27iw6OWWX_BofjkoM8Resixm88=s64",
      "userId": "00187011474742499538"
     },
     "user_tz": -330
    },
    "id": "3VIWiFZFeR0P",
    "outputId": "e4568b42-86c8-4d04-a58f-d353e6c34f33"
   },
   "outputs": [
    {
     "name": "stdout",
     "output_type": "stream",
     "text": [
      "glove.6B.100d.txt  glove.6B.200d.txt  glove.6B.300d.txt  glove.6B.50d.txt\n"
     ]
    }
   ],
   "source": [
    "!ls drive/MyDrive/Makeathon/GloVe"
   ]
  },
  {
   "cell_type": "code",
   "execution_count": 4,
   "metadata": {
    "executionInfo": {
     "elapsed": 34609,
     "status": "ok",
     "timestamp": 1611497530912,
     "user": {
      "displayName": "Dhiganth Rao P",
      "photoUrl": "https://lh3.googleusercontent.com/a-/AOh14Giko-QM05H9a_27iw6OWWX_BofjkoM8Resixm88=s64",
      "userId": "00187011474742499538"
     },
     "user_tz": -330
    },
    "id": "kXFaVNIMjd9R"
   },
   "outputs": [],
   "source": [
    "def loadGloveModel(File):\n",
    "    \"\"\"\n",
    "    Loads the GloVe Model from a particular .txt file.\n",
    "    \"\"\"\n",
    "    print(\"Loading Glove Model\")\n",
    "    f = open(File,'r')\n",
    "    gloveModel = {}\n",
    "    for line in f:\n",
    "        splitLines = line.split()\n",
    "        word = splitLines[0]\n",
    "        wordEmbedding = np.array([float(value) for value in splitLines[1:]])\n",
    "        gloveModel[word] = wordEmbedding\n",
    "    print(len(gloveModel),\" words loaded!\")\n",
    "    return gloveModel"
   ]
  },
  {
   "cell_type": "code",
   "execution_count": 6,
   "metadata": {
    "colab": {
     "base_uri": "https://localhost:8080/"
    },
    "executionInfo": {
     "elapsed": 41731,
     "status": "ok",
     "timestamp": 1611497538045,
     "user": {
      "displayName": "Dhiganth Rao P",
      "photoUrl": "https://lh3.googleusercontent.com/a-/AOh14Giko-QM05H9a_27iw6OWWX_BofjkoM8Resixm88=s64",
      "userId": "00187011474742499538"
     },
     "user_tz": -330
    },
    "id": "Spu6UvFwjfmf",
    "outputId": "787e3ab4-e20c-4623-a2bb-b3fb32acddef"
   },
   "outputs": [
    {
     "name": "stdout",
     "output_type": "stream",
     "text": [
      "Loading Glove Model\n",
      "400000  words loaded!\n",
      "[-0.38497   0.80092   0.064106 -0.28355  -0.026759 -0.34532  -0.64253\n",
      " -0.11729  -0.33257   0.55243  -0.087813  0.9035    0.47102   0.56657\n",
      "  0.6985   -0.35229  -0.86542   0.90573   0.03576  -0.071705 -0.12327\n",
      "  0.54923   0.47005   0.35572   1.2611   -0.67581  -0.94983   0.68666\n",
      "  0.3871   -1.3492    0.63512   0.46416  -0.48814   0.83827  -0.9246\n",
      " -0.33722   0.53741  -1.0616   -0.081403 -0.67111   0.30923  -0.3923\n",
      " -0.55002  -0.68827   0.58049  -0.11626   0.013139 -0.57654   0.048833\n",
      "  0.67204 ]\n"
     ]
    }
   ],
   "source": [
    "# /content/drive/My Drive/Makeathon/\n",
    "gloveModel = loadGloveModel('/content/drive/My Drive/Makeathon/GloVe/glove.6B.50d.txt')\n",
    "print(gloveModel['hello'])"
   ]
  },
  {
   "cell_type": "code",
   "execution_count": 8,
   "metadata": {
    "executionInfo": {
     "elapsed": 42507,
     "status": "ok",
     "timestamp": 1611497538825,
     "user": {
      "displayName": "Dhiganth Rao P",
      "photoUrl": "https://lh3.googleusercontent.com/a-/AOh14Giko-QM05H9a_27iw6OWWX_BofjkoM8Resixm88=s64",
      "userId": "00187011474742499538"
     },
     "user_tz": -330
    },
    "id": "6uAiwDonYlyI"
   },
   "outputs": [],
   "source": [
    "# Loading train and test datasets. test-data is Evaluation.csv, just renamed\n",
    "train_dataframe = pd.read_csv(\"word-meaning-examples.csv\", sep = ',')\n",
    "test_dataframe = pd.read_csv(\"test-data.csv\")"
   ]
  },
  {
   "cell_type": "code",
   "execution_count": 9,
   "metadata": {
    "executionInfo": {
     "elapsed": 42522,
     "status": "ok",
     "timestamp": 1611497538843,
     "user": {
      "displayName": "Dhiganth Rao P",
      "photoUrl": "https://lh3.googleusercontent.com/a-/AOh14Giko-QM05H9a_27iw6OWWX_BofjkoM8Resixm88=s64",
      "userId": "00187011474742499538"
     },
     "user_tz": -330
    },
    "id": "YLX77DagYlyO"
   },
   "outputs": [],
   "source": [
    "train_dataframe = train_dataframe.loc[:, :'Meaning']"
   ]
  },
  {
   "cell_type": "code",
   "execution_count": 10,
   "metadata": {
    "colab": {
     "base_uri": "https://localhost:8080/"
    },
    "executionInfo": {
     "elapsed": 43263,
     "status": "ok",
     "timestamp": 1611497539592,
     "user": {
      "displayName": "Dhiganth Rao P",
      "photoUrl": "https://lh3.googleusercontent.com/a-/AOh14Giko-QM05H9a_27iw6OWWX_BofjkoM8Resixm88=s64",
      "userId": "00187011474742499538"
     },
     "user_tz": -330
    },
    "id": "p1MF3FGhYlyQ",
    "outputId": "228a94ef-513f-4c43-f269-e4dbc8936e3e"
   },
   "outputs": [
    {
     "name": "stderr",
     "output_type": "stream",
     "text": [
      "<ipython-input-10-192a8984c094>:1: UserWarning: DataFrame columns are not unique, some columns will be omitted.\n",
      "  train_dict = train_dataframe.set_index('Word').T.to_dict('list')\n"
     ]
    }
   ],
   "source": [
    "train_dict = train_dataframe.set_index('Word').T.to_dict('list')\n",
    "test_dict = test_dataframe.set_index('Masked').T.to_dict('list')"
   ]
  },
  {
   "cell_type": "code",
   "execution_count": 11,
   "metadata": {},
   "outputs": [
    {
     "data": {
      "text/plain": [
       "'\\n  Creates a vector representation of sentences. \\n  Uses a dictionary of words and their meanings as input,\\n  converts each word of the sentence into a word vector \\n  representation, and averages them to form a single\\n  vector representation for each word.\\n  \\n  '"
      ]
     },
     "execution_count": 11,
     "metadata": {},
     "output_type": "execute_result"
    }
   ],
   "source": []
  },
  {
   "cell_type": "code",
   "execution_count": 26,
   "metadata": {
    "executionInfo": {
     "elapsed": 43266,
     "status": "ok",
     "timestamp": 1611497539598,
     "user": {
      "displayName": "Dhiganth Rao P",
      "photoUrl": "https://lh3.googleusercontent.com/a-/AOh14Giko-QM05H9a_27iw6OWWX_BofjkoM8Resixm88=s64",
      "userId": "00187011474742499538"
     },
     "user_tz": -330
    },
    "id": "smhL_MtAd034"
   },
   "outputs": [],
   "source": [
    "def create_sentence_vectors(dictionary):\n",
    "  \n",
    "  \"\"\"\n",
    "  Creates a vector representation of sentences. \n",
    "  Uses a dictionary of words and their meanings as input,\n",
    "  converts each word of the sentence into a word vector \n",
    "  representation, and averages them to form a single\n",
    "  vector representation for each word.\n",
    "  \n",
    "  \"\"\"\n",
    "  # Preprocessing\n",
    "  for word in dictionary.keys():\n",
    "    dictionary[word] = dictionary[word][0]\n",
    "  dict_vec = {}\n",
    "  preprocessed_meaning = []\n",
    "  for word in dictionary.keys():\n",
    "    sentence_vector = []\n",
    "    # print(\"Word:\", word)\n",
    "    meaning = dictionary[word]\n",
    "    # Checking whether the meaning is in string form or not.\n",
    "    if isinstance(meaning, str) is False:\n",
    "      pass\n",
    "    else:\n",
    "      # Removing special characters, and dividing each word in the sentence to seperate lists\n",
    "      preprocessed_meaning = \" \".join(re.findall(r\"[a-zA-Z0-9]+\", meaning)).split()\n",
    "      # Iterating through each word and finding corresponding GloVe vector\n",
    "      for i in preprocessed_meaning:\n",
    "        # Checking if word is present in the list of defined words\n",
    "        if i in gloveModel.keys():\n",
    "          wordvector = gloveModel[i]\n",
    "        else:\n",
    "          pass  \n",
    "        sentence_vector.append(wordvector)\n",
    "      dict_vec[word] = sentence_vector\n",
    "  # Conversion into one vector\n",
    "  meanings_vectorized = {}\n",
    "  for word in dict_vec.keys():\n",
    "    total_vector = np.zeros(50,)\n",
    "    index = 0\n",
    "    for vector in dict_vec[word]:\n",
    "        total_vector += vector\n",
    "        index += 1\n",
    "\n",
    "    total_vector /= index \n",
    "    meanings_vectorized[word] = total_vector\n",
    "  return meanings_vectorized\n"
   ]
  },
  {
   "cell_type": "code",
   "execution_count": 13,
   "metadata": {
    "executionInfo": {
     "elapsed": 43269,
     "status": "ok",
     "timestamp": 1611497539603,
     "user": {
      "displayName": "Dhiganth Rao P",
      "photoUrl": "https://lh3.googleusercontent.com/a-/AOh14Giko-QM05H9a_27iw6OWWX_BofjkoM8Resixm88=s64",
      "userId": "00187011474742499538"
     },
     "user_tz": -330
    },
    "id": "CV4tToqve77z"
   },
   "outputs": [],
   "source": [
    "train_dict_vectors = create_sentence_vectors(train_dict)\n",
    "test_dict_vectors = create_sentence_vectors(test_dict)"
   ]
  },
  {
   "cell_type": "code",
   "execution_count": 14,
   "metadata": {
    "colab": {
     "base_uri": "https://localhost:8080/"
    },
    "executionInfo": {
     "elapsed": 43268,
     "status": "ok",
     "timestamp": 1611497539608,
     "user": {
      "displayName": "Dhiganth Rao P",
      "photoUrl": "https://lh3.googleusercontent.com/a-/AOh14Giko-QM05H9a_27iw6OWWX_BofjkoM8Resixm88=s64",
      "userId": "00187011474742499538"
     },
     "user_tz": -330
    },
    "id": "S9bgRydLn64q",
    "outputId": "0a6b3353-813f-4065-f19c-2d50fa571d3a"
   },
   "outputs": [
    {
     "data": {
      "text/plain": [
       "array([ 0.54275953,  0.32810435, -0.24265694,  0.11212776,  0.26464259,\n",
       "       -0.07517229, -0.59884588, -0.13959435, -0.15745542, -0.22009911,\n",
       "        0.11662318, -0.20112004, -0.09344824, -0.32191929,  0.07800515,\n",
       "        0.21148671,  0.04706547,  0.13835541, -0.75366465,  0.08472859,\n",
       "        0.16989406, -0.09572382, -0.27618641, -0.01999353,  0.12779588,\n",
       "       -1.74803529, -0.48220176,  0.04652724,  0.03563059, -0.27824765,\n",
       "        3.40601765, -0.27075859, -0.23650412, -0.43757535,  0.23031096,\n",
       "        0.07186159,  0.10967053,  0.14501253, -0.02941979,  0.27797647,\n",
       "       -0.11065612,  0.022959  ,  0.12191429, -0.05813229, -0.26083382,\n",
       "        0.33865094, -0.16533843, -0.25876953,  0.04781965, -0.59547699])"
      ]
     },
     "execution_count": 14,
     "metadata": {},
     "output_type": "execute_result"
    }
   ],
   "source": [
    "test_dict_vectors['C o _ _ n t h']"
   ]
  },
  {
   "cell_type": "code",
   "execution_count": 22,
   "metadata": {
    "colab": {
     "base_uri": "https://localhost:8080/"
    },
    "executionInfo": {
     "elapsed": 401872,
     "status": "ok",
     "timestamp": 1611498732913,
     "user": {
      "displayName": "Dhiganth Rao P",
      "photoUrl": "https://lh3.googleusercontent.com/a-/AOh14Giko-QM05H9a_27iw6OWWX_BofjkoM8Resixm88=s64",
      "userId": "00187011474742499538"
     },
     "user_tz": -330
    },
    "id": "RsUOKZvYmTkT",
    "outputId": "efe10641-e0fd-4512-a139-ae08990eae1b"
   },
   "outputs": [],
   "source": [
    "similar_words = {}\n",
    "for masked_word in test_dict_vectors:\n",
    "  word_list = []\n",
    "  for vocabulary_word in train_dict_vectors:  \n",
    "    distance = 0.0\n",
    "    u = test_dict_vectors[masked_word]\n",
    "    v = train_dict_vectors[vocabulary_word]    \n",
    "    # Compute the dot product between u and v\n",
    "    dot = np.dot(u, v)\n",
    "    # Compute the L2 norm of u\n",
    "    norm_u = np.sqrt(np.sum(u**2))\n",
    "    # Compute the L2 norm of v\n",
    "    norm_v = np.sqrt(np.sum(v**2))\n",
    "\n",
    "    # Compute the cosine similarity\n",
    "    cosine_similarity = dot/(norm_u * norm_v)\n",
    "    if (cosine_similarity > 0.9):\n",
    "      # print(f\"Appending {vocabulary_word} to word list\")\n",
    "      if len(word_list) > 3:\n",
    "            pass\n",
    "      else:\n",
    "            word_list.append(vocabulary_word)\n",
    "  similar_words[masked_word] = word_list\n",
    "  \n"
   ]
  },
  {
   "cell_type": "code",
   "execution_count": 23,
   "metadata": {
    "colab": {
     "background_save": true,
     "base_uri": "https://localhost:8080/",
     "output_embedded_package_id": "1mNc4LC3SrbRDmNq00eTwufC8DEL02rJ9"
    },
    "executionInfo": {
     "elapsed": 789,
     "status": "ok",
     "timestamp": 1611498819582,
     "user": {
      "displayName": "Dhiganth Rao P",
      "photoUrl": "https://lh3.googleusercontent.com/a-/AOh14Giko-QM05H9a_27iw6OWWX_BofjkoM8Resixm88=s64",
      "userId": "00187011474742499538"
     },
     "user_tz": -330
    },
    "id": "gFR8y3zinnr4",
    "outputId": "cde06b2e-4806-46c7-84ec-ade155aa4e04"
   },
   "outputs": [
    {
     "data": {
      "text/plain": [
       "{'C o _ _ n t h': ['Abattoir', 'Abnormal', 'Aboard', 'Abode '],\n",
       " '_ e c e i _ e': ['A bed of roses', 'A Priori', 'Abandon', 'Abase'],\n",
       " '_ o l l a g _': ['A bed of roses', 'A Priori', 'Abduct', 'Abject'],\n",
       " 't _ _ s h': ['A bed of roses', 'A Priori', 'Abase', 'Abdicate'],\n",
       " 'D e _ a w _ r _': ['Abdominal', 'Aberrant', 'Abnormal', 'Aboard'],\n",
       " 'p a l e _ t _': ['Abbess', 'Abnormal', 'Abnormality', 'Aboriginal'],\n",
       " 'i c _ _ a _ e _ r o n': [],\n",
       " 'B a _ _ a c': ['Hasidic', 'Rococo'],\n",
       " '_ a l a _ s i _': ['Abnormal', 'Abode ', 'Abolish', 'Abolition'],\n",
       " 's _ _ i _ o s i s': ['Cholesterol', 'Cyanosis', 'Hypertonic', 'Hypotrophy'],\n",
       " 's _ b _ _ _ s i b l e': ['A bed of roses', 'A Priori', 'Abduct', 'Abet'],\n",
       " 'f _ o t p _ d': ['Adolescence', 'Bayonet', 'Bonnet', 'Casualty'],\n",
       " 'l a n g _ _': ['Buzzard', 'Cilia', 'Claw', 'Hare'],\n",
       " '_ _ s c a n': ['Abbess', 'Abnormal', 'Abode ', 'Aboriginal'],\n",
       " 'u n i _ e _ s _': ['A bed of roses', 'A Priori', 'Abdicate', 'Aberration'],\n",
       " 'e x _ _ s e': ['A bed of roses', 'A Priori', 'Abduct', 'Abet'],\n",
       " 'c _ e _ i s h': ['A bed of roses', 'A Priori', 'Abandon', 'Abase'],\n",
       " '_ u p _ l a n _': ['A bed of roses', 'A Priori', 'Abaft', 'Abandon'],\n",
       " 'c o _ v e _ _ e': ['A bed of roses', 'A Priori', 'Abandon', 'Abase'],\n",
       " 'P _ i n c _ _ o n': ['Afar', 'Amid', 'Capitol', 'District'],\n",
       " '_ i d e': ['Aardvark', 'Abattoir', 'Abnormal', 'Abnormality'],\n",
       " 't i _ t': ['Anaphase', 'Astride', 'Balkanization', 'Bate'],\n",
       " 'p _ _ s _ m m o n': ['Albatross', 'Berry', 'Biodiversity', 'Biome'],\n",
       " 'f _ r d': [],\n",
       " 'l _ n c h _ o o _': ['Accordingly', 'Address', 'Aerie', 'Alcove'],\n",
       " '_ a _ p a s': ['A bed of roses', 'A Priori', 'Abbreviate', 'Abdicate'],\n",
       " 'h _ d r a n _ _ a': ['Biome', 'Bracken', 'Copse', 'Reptile'],\n",
       " '_ n _ _ s c _ i m i n a _ e': ['A Priori', 'Abase', 'Abdicate', 'Abduct'],\n",
       " 't _ _ t y': ['Akimbo', 'Albinism', 'Animation', 'Armor'],\n",
       " 'c _ _ r a n t': ['Achromatic', 'Aerosol', 'Aggregate', 'Aggregator'],\n",
       " 'a n n _ y _ n c _': ['A bed of roses', 'A Priori', 'Abase', 'Abdicate'],\n",
       " '_ i p l o _ a c _': ['Ceasefire', 'Treaty'],\n",
       " 'c h a r _ _ t': ['Axle', 'Pommel', 'Saddle', 'Unicycle'],\n",
       " '_ a t i s f a _ t i _ _': ['A bed of roses', 'A Priori', 'Abandon', 'Abase'],\n",
       " 'c _ l _ i e': ['Abdominal', 'Abnormal', 'Abrasion', 'Absorption'],\n",
       " 's k y j a _ _': ['Aerospace', 'Altimeter', 'Aviation', 'Breathe'],\n",
       " 't a _ _ w o _ m': ['Anthropomorphic',\n",
       "  'Anthropomorphism',\n",
       "  'Antibiotic',\n",
       "  'Antiseptic'],\n",
       " 'g e _ i t a _': ['A Priori', 'Abdicate', 'Abduct', 'Abet'],\n",
       " 'P r _ _ s i a': ['Aboriginal', 'Afar', 'Albatross', 'Alpine'],\n",
       " '_ o c k': ['Abdominal', 'Aberrant', 'Abeyance', 'Abnormal'],\n",
       " 'P _ c k _ t t': ['Abolish', 'Absorption', 'Acquittal', 'Across'],\n",
       " 'S c r _ _ p s': ['Aboriginal',\n",
       "  'Ambassador ',\n",
       "  'Amongst',\n",
       "  'Articles of Confederation'],\n",
       " 'd _ b a t _': ['A bed of roses', 'A Priori', 'Abandon', 'Abase'],\n",
       " 'l a _ _ a t o r _': ['A bed of roses', 'A Priori', 'Abase', 'Abdicate'],\n",
       " 't _ w _ r': ['A bed of roses', 'A Priori', 'Abduct', 'Aberrant'],\n",
       " 'w _ o p': ['Pelt', 'Struck', 'Wallop'],\n",
       " 'n _ _ k l a _ e': ['Abundance', 'Agglomeration', 'Amalgam', 'Antique'],\n",
       " '_ e n _ v o _ e _ t': ['Abstain', 'Cheerful', 'Happy', 'Introspective'],\n",
       " '_ _ s p e _ s i _ n': ['A bed of roses', 'A Priori', 'Abate', 'Abattoir'],\n",
       " 'g e _ m a n i _ _': [],\n",
       " 'a _ t r _ c t': ['A bed of roses', 'A Priori', 'Abase', 'Abate'],\n",
       " '_ _ a l i c': ['A bed of roses', 'A Priori', 'Abbreviate', 'Abdominal'],\n",
       " 's _ _ o p': ['A bed of roses', 'Abaft', 'Abdominal', 'Abduct'],\n",
       " 'h o _ r _ r o _ t': ['Absorb', 'Achromatic', 'Aerosol', 'Afloat'],\n",
       " 's t u b _ _ e': ['Abattoir', 'Abdominal', 'Abnormal', 'Abolitionist'],\n",
       " 's w i _ _': [],\n",
       " 'a d v _ r _': ['Abbreviate', 'Acquainted', 'Apposition', 'Assonance'],\n",
       " 'l o _ e': [],\n",
       " 's h _ f _ y': [],\n",
       " 'L _ _ a n': ['Abode ', 'Aboriginal', 'Abscission', 'Acme'],\n",
       " '_ b _ c k': ['Abaft', 'Abdominal', 'Abduct', 'Aberrant'],\n",
       " 'V a n _ o _ _ e r': ['Abnormal', 'Aboriginal', 'Absorption', 'Abstinence'],\n",
       " 'c l _ _ r _ o m': ['A bed of roses', 'Abattoir', 'Abbess', 'Abduct'],\n",
       " 'l i _ b': ['Aardvark', 'Abdominal', 'Acupuncture', 'Adduction'],\n",
       " 'S a _ p h _': ['Abnormal', 'Aboriginal', 'Absorption', 'Abstract'],\n",
       " '_ h r e a _': ['A bed of roses', 'A Priori', 'Abase', 'Abattoir'],\n",
       " 'a n _ _ a y': ['A bed of roses', 'A Priori', 'Abase', 'Abbreviate'],\n",
       " 'v _ _ c a n _ c': ['Abnormal', 'Abnormality', 'Abolitionist', 'Aboriginal'],\n",
       " 'b e d _ i _ e': ['A bed of roses', 'Abandon', 'Abase', 'Abdicate'],\n",
       " 'e x _ m p _ a _': ['A bed of roses', 'A Priori', 'Abase', 'Abash'],\n",
       " 'p u l _ a _': ['Air', 'Algae', 'Asteroid', 'Atomize'],\n",
       " '_ _ u b b e r': ['Aardvark', 'Abattoir', 'Abdominal', 'Abjure'],\n",
       " 'o _ _ i v i _ u s': ['A bed of roses', 'A Priori', 'Abandon', 'Abase'],\n",
       " 'H a _ t i n _ _': ['Aboriginal', 'Absorption', 'Academia', 'Academy'],\n",
       " 'd i o _ i _ e': ['Algae', 'Chromatin', 'Cytoplasm', 'Hemoglobin'],\n",
       " 'd e c l _ r _ _ _ v e': [],\n",
       " '_ i x': ['A bed of roses', 'A Priori', 'Abdicate', 'Aberration'],\n",
       " 's t _ a _ d': ['A bed of roses', 'Abdominal', 'Abjure', 'Abnormal'],\n",
       " 'n o _ _ _ a y s': ['A bed of roses', 'A Priori', 'Abandon', 'Abase'],\n",
       " '_ u d _ c _ t u r _': ['A bed of roses', 'A Priori', 'Abbess', 'Abdicate'],\n",
       " '_ _ _ c r e a t e': ['A bed of roses', 'A Priori', 'Aardvark', 'Abattoir'],\n",
       " 's u _ _ o s a _ l _': ['A bed of roses', 'A Priori', 'Abattoir', 'Aberrant'],\n",
       " '_ o r b i _': [],\n",
       " 'D e _': ['A bed of roses', 'Abbess', 'Abdominal', 'Abeyance'],\n",
       " 'a d m i _ i s _ _ _ b _ e': ['A Priori', 'Abandon', 'Abattoir', 'Abduct'],\n",
       " '_ e r _ n d i _ _ t o u _': ['Accomplishment',\n",
       "  'Activity',\n",
       "  'Acumen',\n",
       "  'Adulation'],\n",
       " '_ _ r m u t e': ['A bed of roses', 'A Priori', 'Abatement', 'Abbreviate'],\n",
       " 's c _ l _': ['A bed of roses', 'Abhorrence', 'Absence', 'Absent-minded'],\n",
       " 'c _ m m _ s _ _ r i a t': ['Abjure', 'Abound', 'Abscission', 'Absorb'],\n",
       " 'e _ _ o r t a _ i o _': ['A bed of roses', 'A Priori', 'Abandon', 'Abase'],\n",
       " '_ m _ a _ t i a l': ['Cavalier', 'Composed'],\n",
       " 'G h _ _ a': ['Abbess', 'Abdominal', 'Abeyance', 'Abnormal'],\n",
       " '_ u l k': ['A bed of roses', 'A Priori', 'Abattoir', 'Abbess'],\n",
       " '_ _ w k i n s': ['Abolish', 'Aboriginal', 'Absorption', 'Abstinence'],\n",
       " 'L i b e r _ _': ['Abbess', 'Abject', 'Abjure', 'Abnormal'],\n",
       " '_ h a t': ['Colloquy', 'Outlook'],\n",
       " 't _ n _ m e _ t': ['A bed of roses', 'Abject', 'Abjure', 'Abnormal'],\n",
       " 'F _ _ n k f _ r t': ['Abjure', 'Abolition', 'Aboriginal', 'Abscission'],\n",
       " '_ u _ h o n y': [],\n",
       " '_ _ r e p _ o m y c i _': ['Contagious', 'Curative', 'Distemper', 'Fungi'],\n",
       " 'D N _': [],\n",
       " 's p e r m _ _ o _ _ o n': [],\n",
       " '_ o r m a _ _ y': ['Abdominal', 'Abnormal', 'Aboard', 'Abode '],\n",
       " 'r h e _ m a _ i _': ['Affection', 'Affliction', 'Agony', 'Ail'],\n",
       " '_ u m b _': ['Abnormal', 'Abscission', 'Abundance', 'Abyss'],\n",
       " 'g _ m': ['Covey'],\n",
       " 'p _ r c _ l a _ n': ['Alabaster', 'Alloy', 'Alum', 'Amalgam'],\n",
       " '_ o _ g e _ o l e': ['Montane', 'Savannah'],\n",
       " '_ _ m m u _ _ c a t e': [],\n",
       " '_ o p h i s t _ _': ['A bed of roses', 'A Priori', 'Abdicate', 'Abduct'],\n",
       " 'i _ l _ s i _ n a _ y': ['A Priori', 'Abnormal', 'Abnormality', 'Abolition'],\n",
       " 'H e i d _ g g _ _': ['Abnormal', 'Abolition', 'Abolitionist', 'Aboriginal'],\n",
       " '_ n f a _ _ i b l _': ['A Priori', 'Accoutrement', 'Accuracy', 'Accusation'],\n",
       " '_ s _ e t': ['Aerie', 'Afar', 'Albatross', 'Alcove'],\n",
       " '_ _ c a l m': ['Adequate', 'Ameliorate', 'Amend', 'Aplomb'],\n",
       " 'r o _ m f u _': ['A bed of roses', 'A Priori', 'Abandon', 'Abattoir'],\n",
       " '_ l u b': ['Absenteeism', 'Academy', 'Accommodation', 'Across'],\n",
       " '_ i s t _ r n': ['Vesicle'],\n",
       " 's t _ o n g _ _ l _': ['Edifice ', 'Stockade'],\n",
       " 's o _': ['Child', 'Heifer', ' Hermaphrodite', 'Mother'],\n",
       " 's h u _ d _ _ y': [],\n",
       " 'c _ _ o _ i u m': ['Limp'],\n",
       " 'f i n _ a _': ['Annex ', 'Aperture', 'Arabesque', 'Argyle'],\n",
       " '_ _ a l e _ c e': ['Coupled', 'Diverse', 'Diversity', 'Hodgepodge'],\n",
       " '_ g r _ t': ['Aardvark', 'Abattoir', 'Abnormal', 'Achromatic'],\n",
       " '_ a _ w r i t _ r': ['Activist', 'Adulation', 'Advocacy', 'Aesthete'],\n",
       " 's _ o c _ _ d e': ['A bed of roses', 'Abdominal', 'Abduct', 'Abeyance'],\n",
       " 'p o _ _ o l e': ['A bed of roses', 'Abattoir', 'Abdominal', 'Aberrant'],\n",
       " 'M _ o': [],\n",
       " 'f _ r t _ n a t _': ['Adequate', 'Adulation', 'Animosity', 'Ante'],\n",
       " 'f _ a t _ e n': ['Adorn', 'Ameliorate', 'Dampen', 'Diminutive'],\n",
       " 'w _ _ e l': ['A bed of roses', 'Abnormality', 'Accessory', 'Accoutrement'],\n",
       " '_ e t h _ s e l _ _': [],\n",
       " 't e _ _ b l e': ['A bed of roses', 'A Priori', 'Abjure', 'Abnegation'],\n",
       " 'M i _ w _ s t': ['Abbess', 'Abdominal', 'Abnormal', 'Abode '],\n",
       " 'p _ e _ i o _ s': ['Abhorrence', 'Absurdity', 'Abyss', 'Acerbic'],\n",
       " 'e p _ _ e m _ c': ['A Priori', 'Abattoir', 'Abdominal', 'Abjure'],\n",
       " 'o c a _ i _ a': ['Arabesque', 'Gourd', 'Hewn', 'Nick'],\n",
       " 'M e _ p o _ _ n e': [],\n",
       " 'D u _ k i _ k': ['A bed of roses', 'A Priori', 'Abaft', 'Abandon'],\n",
       " 'c h a _ _': ['A bed of roses', 'A Priori', 'Abase', 'Abbreviate'],\n",
       " 'a r m _ d i _ _ o': ['Aardvark', 'Claw', 'Crustacean', 'Exoskeleton'],\n",
       " 'i n t _ _ _ a l': ['A bed of roses', 'Abdominal', 'Aberrant', 'Abjure'],\n",
       " '_ _ r y l': ['Abound', 'Abundance', 'Alabaster', 'Alloy'],\n",
       " 's _ r o _ n _ e': ['A Priori', 'Abandon', 'Abattoir', 'Abdicate'],\n",
       " '_ h _ m p _ n z _ e': [],\n",
       " 'm _ o p _ a': [],\n",
       " '_ a n g _ r': ['A bed of roses', 'A Priori', 'Abandon', 'Abattoir'],\n",
       " '_ a _ i o g r a p _ _': ['A bed of roses',\n",
       "  'A Priori',\n",
       "  'Abbess',\n",
       "  'Abhorrence'],\n",
       " 'd _ m a s _': ['Barrette', 'Brocade', 'Canvas', 'Corsage'],\n",
       " 'q _ i _ t': ['Accessory', 'Akimbo', 'Antipodes', 'Aptly'],\n",
       " 's _ b _ l _ t y': ['A bed of roses', 'A Priori', 'Abase', 'Abatement'],\n",
       " '_ o _ l b o o t _': ['Address', 'Boundary', 'Burglary', 'Carpool'],\n",
       " 'r u _ p': ['A bed of roses', 'A Priori', 'Abattoir', 'Abbess'],\n",
       " 'P _ o m _ _ h _ u s': [],\n",
       " '_ u _ _ e r a n': ['Abbess', 'Anthropology', 'Atheism', 'Bluestocking'],\n",
       " 'e p i _ c o _ a _ _': ['Abbess', 'Abeyance', 'Abnormal', 'Abolish'],\n",
       " 'a _ t _ _ a t e': ['Abduct', 'Abet', 'Accept', 'Acclimate'],\n",
       " 'p _ g g _': ['Adonis', 'Ailurophile', 'Child', 'Cub'],\n",
       " 's p _ c _ _ c l e': ['A bed of roses', 'A Priori', 'Abase', 'Abattoir'],\n",
       " '_ u _ l y': ['Wraith'],\n",
       " 'h a w _ h o _ _': ['Copse', 'Frond', 'Heliotrope', 'Tare'],\n",
       " 'i n _ a r _ _ b l _': ['A bed of roses',\n",
       "  'A Priori',\n",
       "  'Abatement',\n",
       "  'Abbreviate'],\n",
       " 't _ i n k l _': ['A bed of roses', 'Abjure', 'Abnormal', 'Abnormality'],\n",
       " '_ _ s t a _ i n e': ['Antibiotic', 'Antigen', 'Biopsy', 'Cholesterol'],\n",
       " '_ _ _ n w i n d': ['Abaft', 'Abdominal', 'Aberrant', 'Abject'],\n",
       " 'e _ p u _ g e': ['A bed of roses', 'A Priori', 'Abaft', 'Abandon'],\n",
       " 'i _ _ i n e': ['A bed of roses', 'A Priori', 'Abattoir', 'Abdominal'],\n",
       " 't _ _ r i _ _ r i a l': ['Civilian',\n",
       "  'Commander-in-chief',\n",
       "  'Marine',\n",
       "  'Military'],\n",
       " 'S _ h m _ d t': ['Ambassador ', 'Beadle', 'Benedict', 'Birther'],\n",
       " 'A r m o _ _': ['Ancillary', 'Aviation', 'Barracks', 'Battalion'],\n",
       " 'F r e _': [],\n",
       " 'a p _ i t _ _ e': [],\n",
       " 'p _ r _ l': ['A bed of roses', 'A Priori', 'Abduct', 'Abhorrence'],\n",
       " 'e _ _ _ i c a b _ e': ['A bed of roses', 'A Priori', 'Abandon', 'Abase'],\n",
       " 'p _ _ a t _ e s': ['A bed of roses', 'Aardvark', 'Abattoir', 'Abjure'],\n",
       " 'p r _ _ l a _ m': ['A Priori', 'Abase', 'Abdicate', 'Abhor'],\n",
       " 'd _ a r _ h': [],\n",
       " 's _ i _ t': ['Abdominal', 'Abeyance', 'Abnormal', 'Aboriginal'],\n",
       " 'w _ _ e n': ['A Priori', 'Abase', 'Abash', 'Aberration'],\n",
       " 's p _ r': ['A bed of roses', 'A Priori', 'Abandon', 'Abase'],\n",
       " 'I _ l a m _ c': ['A bed of roses', 'A Priori', 'Abdicate', 'Abduct'],\n",
       " '_ _ s c i n a _ e': ['A bed of roses', 'A Priori', 'Abandon', 'Abase'],\n",
       " '_ i n _ m i l _': ['A bed of roses', 'Abnormal', 'Abnormality', 'Aboard'],\n",
       " 'r u n _': ['A bed of roses', 'A Priori', 'Abdicate', 'Aberration'],\n",
       " 'y o u t _ _ _ l': ['Acerbic', 'Acidulous', 'Aesthetic', ' Assiduity '],\n",
       " 'I r _ q': ['Abbess', 'Abdominal', 'Abnormal', 'Abode '],\n",
       " '_ i g _ t': ['Accoutrement', 'Acculturation', 'Acuity', 'Acumen'],\n",
       " '_ m b a _ g o': ['Abeyance', 'Abjure', 'Abnegation', 'Abolish'],\n",
       " 'o _ f i c i a _ _': ['A bed of roses', 'Abattoir', 'Abbess', 'Abet'],\n",
       " 's c a _ _ e t': ['A bed of roses', 'Abhorrence', 'Abnormality', 'Abstract'],\n",
       " 'p e _ _ p i c _ _ _ o u s': [],\n",
       " 's _ a u g _ _ e r': ['A Priori', 'Abandon', 'Abattoir', 'Abjure'],\n",
       " '_ a _ t e': ['Axle', 'Badge', 'Bale', 'Bib'],\n",
       " 'g i _ p _': ['Abdominal', 'Aberrant', 'Aboard', 'Abrasion'],\n",
       " 's _ _ n e': ['Abdominal', 'Acupuncture', 'Adduction', 'Akimbo'],\n",
       " 'i n _ a _ t': ['A Priori', 'Able', 'Absurdity', 'Abyss'],\n",
       " '_ i _ n i a': ['Aboriginal', 'Alabaster', 'Albatross', 'Algae'],\n",
       " '_ l y _ e r _ n e': [],\n",
       " 'r e _ _ r v _ t _ o n': ['A bed of roses', 'A Priori', 'Abattoir', 'Abbess'],\n",
       " 's _ _ u p': ['Blob', 'Gourd', 'Phosphate'],\n",
       " 'M N': ['A bed of roses', 'A Priori', 'Abnormal', 'Abnormality'],\n",
       " 'a _ t i r _': ['A bed of roses', 'Abhorrence', 'Abjure', 'Abnormal'],\n",
       " 'f i l _': ['A bed of roses', 'A Priori', 'Abduct', 'Abhorrence'],\n",
       " 'a s _ e _': ['Abase', 'Abhorrence', 'Ache', 'Acupuncture'],\n",
       " 'c _ n s _ e r n _ _ e': ['Angst', 'Anguish', 'Antagonize', 'Anxiety'],\n",
       " 'm _ c e': ['Aardvark', 'Alabaster', 'Cilia', 'Claw'],\n",
       " 'b r a _ _': ['Abnormality', 'Accoutrement', 'Achromatic', 'Acupuncture'],\n",
       " 'p u t _ _': ['Abraded', 'Absorb', 'Afloat', 'Aggregator'],\n",
       " 'j a _': ['Abnormal', 'Abolish', 'Abolition', 'Aboriginal'],\n",
       " 'c o m p l _ m _ n _ a _ _ o _': ['A bed of roses',\n",
       "  'A Priori',\n",
       "  'Abbreviate',\n",
       "  'Aberration'],\n",
       " 'm i _ _ t i c': ['A bed of roses', 'A Priori', 'Abduct', 'Aberration'],\n",
       " '_ a _ a o': [],\n",
       " '_ i _ l b _ l l y': ['A bed of roses', 'Abet', 'Abjure', 'Abnormality'],\n",
       " 'b r _ _ e': ['A bed of roses', 'A Priori', 'Abase', 'Abatement'],\n",
       " '_ x _ r c _ s e': ['A bed of roses', 'A Priori', 'Abandon', 'Abase'],\n",
       " '_ _ _ v a s i v e': ['Borne', 'Disseminate', 'Divergent', 'Fearmongering'],\n",
       " '_ r o _ n': ['Aesthetic', 'Affection', 'Amorous', 'Antipathy'],\n",
       " '_ a t _ _ a t e': ['Abnormal', 'Aboriginal', 'Abound', 'Abscission'],\n",
       " 'a c r _': ['Afar', 'Alcove', 'Alpine', 'Ashore'],\n",
       " '_ s _ r o _ o g y': ['Abdominal', 'Abduct', 'Abjure', 'Abnormal'],\n",
       " 'p l _ t _ _ u m': ['Abound', 'Abscission', 'Abundance', 'Achromatic'],\n",
       " '_ a _ a s h': ['Abdominal', 'Aboriginal', 'Adduction', 'Aerodynamics'],\n",
       " 'd e _ _ a n t': ['A bed of roses', 'A Priori', 'Abdicate', 'Aberration'],\n",
       " '_ _ z m o': ['A bed of roses', 'A Priori', 'Abase', 'Abattoir'],\n",
       " '_ d v _ _ t a g e': ['A bed of roses', 'A Priori', 'Abase', 'Abate'],\n",
       " 'c o u _ a g _': ['A bed of roses', 'A Priori', 'Abandon', 'Abase'],\n",
       " 'N e _ t _ n e': [],\n",
       " 'p _ a n _ a i _': ['Aardvark', 'Abound', 'Abscission', 'Abundance'],\n",
       " '_ t i p e n _': ['A bed of roses', 'A Priori', 'Abdicate', 'Abduct'],\n",
       " 'p e _ e _': [],\n",
       " 'w _ _ k m e n': ['Accomplice',\n",
       "  'Accoutrement',\n",
       "  'Accreditation',\n",
       "  'Accusatory'],\n",
       " '_ _ c o s e': ['Abhorrence', 'Acerbic', 'Aesthetic', 'Agitprop'],\n",
       " '_ _ n c _ i o n': [],\n",
       " '_ _ e l l b _ _ n d': ['A bed of roses', 'A Priori', 'Abandon', 'Abase'],\n",
       " '_ l _ e g _ _ i m a t e': ['Heredity', 'Progeny'],\n",
       " 'u _ b _ r': [],\n",
       " 'd h a _ m _': ['Abbess', 'Abjure', 'Abnormal', 'Abode '],\n",
       " 'i n _ u i _ _ t i _ n': ['Aboriginal',\n",
       "  'Absorption',\n",
       "  'Abstinence',\n",
       "  'Academy'],\n",
       " 'a d v e r _ _': ['A Priori', 'Abase', 'Abdicate', 'Abet'],\n",
       " 'g r a n d _ _ _ l _': ['Accede', 'Admire', 'Adolescence', 'Adopt'],\n",
       " '_ e r n _': ['Benedict', 'Bluestocking', 'Magnum opus', 'Matrimony'],\n",
       " 'c o _ m _ n t': ['A bed of roses', 'A Priori', 'Abdicate', 'Abet'],\n",
       " '_ _ a y e _ f u l': ['Abandon', 'Accede', 'Adjure', 'Adore'],\n",
       " '_ a p a _ _ _ a t e': ['A Priori', 'Abdicate', 'Abduct', 'Aberration'],\n",
       " 'b _ u t': [],\n",
       " 'H i c _ e _': ['A bed of roses', 'Abdominal', 'Aberration', 'Abjure'],\n",
       " 'n o': ['A bed of roses', 'Abhorrence', 'Abjure', 'Abnormality'],\n",
       " 's o l _ e _ t': ['Adhesion', 'Aerosol', 'Algae', 'Alum'],\n",
       " '_ u m p _': ['Mass'],\n",
       " 'c o _ _ i _ a t _ o n': ['A bed of roses',\n",
       "  'A Priori',\n",
       "  'Abbreviate',\n",
       "  'Abdicate']}"
      ]
     },
     "execution_count": 23,
     "metadata": {},
     "output_type": "execute_result"
    }
   ],
   "source": [
    "similar_words"
   ]
  },
  {
   "cell_type": "code",
   "execution_count": 15,
   "metadata": {
    "executionInfo": {
     "elapsed": 91532,
     "status": "ok",
     "timestamp": 1611497587887,
     "user": {
      "displayName": "Dhiganth Rao P",
      "photoUrl": "https://lh3.googleusercontent.com/a-/AOh14Giko-QM05H9a_27iw6OWWX_BofjkoM8Resixm88=s64",
      "userId": "00187011474742499538"
     },
     "user_tz": -330
    },
    "id": "iHCTOmt0rhQw"
   },
   "outputs": [],
   "source": []
  }
 ],
 "metadata": {
  "accelerator": "GPU",
  "colab": {
   "collapsed_sections": [],
   "name": "Solution.ipynb",
   "toc_visible": true,
   "version": ""
  },
  "kernelspec": {
   "display_name": "Python 3",
   "language": "python",
   "name": "python3"
  },
  "language_info": {
   "codemirror_mode": {
    "name": "ipython",
    "version": 3
   },
   "file_extension": ".py",
   "mimetype": "text/x-python",
   "name": "python",
   "nbconvert_exporter": "python",
   "pygments_lexer": "ipython3",
   "version": "3.8.5"
  }
 },
 "nbformat": 4,
 "nbformat_minor": 4
}
